{
 "cells": [
  {
   "cell_type": "markdown",
   "metadata": {},
   "source": [
    "Evolución de los Precios de la Electricidad\n",
    "==="
   ]
  },
  {
   "cell_type": "markdown",
   "metadata": {},
   "source": [
    "# Instrucciones"
   ]
  },
  {
   "cell_type": "markdown",
   "metadata": {},
   "source": [
    "En el archivo `precios.zip`  se encuentran los archivos `Precio_Bolsa_Nacional_($kwh)_ano.xls` en formato de Microsoft Excel, los cuales contienen los precios históricos horarios de la electricidad para el mercado eléctrico Colombiano entre los años 1995 y 2017 en COL-PESOS/kWh. A partir de la información suministrada realice las siguientes actividades. "
   ]
  },
  {
   "cell_type": "markdown",
   "metadata": {},
   "source": [
    "**1.--** Lea los archivos y cree una tabla única concatenando la información para cada uno de los años. Debe transformar la tabla de tal forma que quede con las columnas `Fecha`, `Hora` y `Precio` (únicamente tres columnas)."
   ]
  },
  {
   "cell_type": "code",
   "execution_count": 2,
   "metadata": {},
   "outputs": [
    {
     "data": {
      "text/html": [
       "<div>\n",
       "<style scoped>\n",
       "    .dataframe tbody tr th:only-of-type {\n",
       "        vertical-align: middle;\n",
       "    }\n",
       "\n",
       "    .dataframe tbody tr th {\n",
       "        vertical-align: top;\n",
       "    }\n",
       "\n",
       "    .dataframe thead th {\n",
       "        text-align: right;\n",
       "    }\n",
       "</style>\n",
       "<table border=\"1\" class=\"dataframe\">\n",
       "  <thead>\n",
       "    <tr style=\"text-align: right;\">\n",
       "      <th></th>\n",
       "      <th>Fecha</th>\n",
       "      <th>Hora</th>\n",
       "      <th>Precio</th>\n",
       "    </tr>\n",
       "  </thead>\n",
       "  <tbody>\n",
       "    <tr>\n",
       "      <th>0</th>\n",
       "      <td>1995-07-20</td>\n",
       "      <td>0</td>\n",
       "      <td>NaN</td>\n",
       "    </tr>\n",
       "    <tr>\n",
       "      <th>1</th>\n",
       "      <td>1995-07-21</td>\n",
       "      <td>0</td>\n",
       "      <td>1.073</td>\n",
       "    </tr>\n",
       "    <tr>\n",
       "      <th>2</th>\n",
       "      <td>1995-07-22</td>\n",
       "      <td>0</td>\n",
       "      <td>1.073</td>\n",
       "    </tr>\n",
       "    <tr>\n",
       "      <th>3</th>\n",
       "      <td>1995-07-23</td>\n",
       "      <td>0</td>\n",
       "      <td>1.073</td>\n",
       "    </tr>\n",
       "    <tr>\n",
       "      <th>4</th>\n",
       "      <td>1995-07-24</td>\n",
       "      <td>0</td>\n",
       "      <td>1.000</td>\n",
       "    </tr>\n",
       "  </tbody>\n",
       "</table>\n",
       "</div>"
      ],
      "text/plain": [
       "        Fecha Hora  Precio\n",
       "0  1995-07-20    0     NaN\n",
       "1  1995-07-21    0   1.073\n",
       "2  1995-07-22    0   1.073\n",
       "3  1995-07-23    0   1.073\n",
       "4  1995-07-24    0   1.000"
      ]
     },
     "execution_count": 2,
     "metadata": {},
     "output_type": "execute_result"
    }
   ],
   "source": [
    "import pandas as pd\n",
    "import numpy as np\n",
    "import matplotlib.pyplot as plt\n",
    "import matplotlib as mpl\n",
    "import datetime as dt\n",
    "%matplotlib inline\n",
    "#Defino una funcion para leer los archivos eliminando las filas vacias\n",
    "def leer_precios(filename):\n",
    "    for k in range(5):  #Como se que como maximo 4 filas vacias utilizo range(5)\n",
    "        df = pd.read_excel(filename,\n",
    "                           skiprows = k,                #Las filas que voy a omitir\n",
    "                           usecols = list(range(25)))   #Numero de columnas que voy a tomar\n",
    "        if df.iloc[0,0] == 'Fecha':\n",
    "            df = pd.read_excel(filename,\n",
    "                               skiprows = k+1,\n",
    "                               usecols = list(range(25)))\n",
    "            break\n",
    "        \n",
    "    return(df)\n",
    "\n",
    "filenames = !ls precios/*.xls*\n",
    "\n",
    "dfs = []\n",
    "for filename in filenames:\n",
    "    dfs.append(leer_precios(filename))\n",
    "dfs = pd.concat(dfs)\n",
    "\n",
    "dfs1 = pd.melt(dfs,id_vars='Fecha')\n",
    "dfs1.columns = ['Fecha', 'Hora', 'Precio']\n",
    "dfs1.head(5)"
   ]
  },
  {
   "cell_type": "markdown",
   "metadata": {},
   "source": [
    "**2.--** Compute e imprima el número de registros con datos faltantes."
   ]
  },
  {
   "cell_type": "code",
   "execution_count": 3,
   "metadata": {},
   "outputs": [
    {
     "name": "stdout",
     "output_type": "stream",
     "text": [
      "238\n"
     ]
    }
   ],
   "source": [
    "missed_df = dfs1[dfs1['Precio'].notnull()]\n",
    "print(dfs1.shape[0] - missed_df.shape[0])"
   ]
  },
  {
   "cell_type": "markdown",
   "metadata": {},
   "source": [
    "**3.--** Compute e imprima el número de registros duplicados."
   ]
  },
  {
   "cell_type": "code",
   "execution_count": 4,
   "metadata": {},
   "outputs": [
    {
     "name": "stdout",
     "output_type": "stream",
     "text": [
      "1951\n"
     ]
    }
   ],
   "source": [
    "duplicated_df = dfs1.copy()\n",
    "duplicated_df = duplicated_df.drop_duplicates()\n",
    "print(dfs1.shape[0] - duplicated_df.shape[0])"
   ]
  },
  {
   "cell_type": "markdown",
   "metadata": {},
   "source": [
    "**4.--** Elimine los registros con datos duplicados o datos faltantes, e imprima la cantidad de registros que quedan (registros completos)."
   ]
  },
  {
   "cell_type": "code",
   "execution_count": 5,
   "metadata": {},
   "outputs": [
    {
     "name": "stdout",
     "output_type": "stream",
     "text": [
      "199819\n"
     ]
    }
   ],
   "source": [
    "dfs1 = dfs1[dfs1['Precio'].notnull()]\n",
    "dfs1 = dfs1.drop_duplicates()\n",
    "print(dfs1.shape[0])"
   ]
  },
  {
   "cell_type": "markdown",
   "metadata": {},
   "source": [
    "**5.--** Compute y grafique el precio primedio diario."
   ]
  },
  {
   "cell_type": "code",
   "execution_count": 35,
   "metadata": {},
   "outputs": [
    {
     "data": {
      "text/plain": [
       "Text(0.5, 0, 'Day')"
      ]
     },
     "execution_count": 35,
     "metadata": {},
     "output_type": "execute_result"
    },
    {
     "data": {
      "image/png": "[encoded data removed]",
      "text/plain": [
       "<Figure size 432x288 with 1 Axes>"
      ]
     },
     "metadata": {
      "needs_background": "light"
     },
     "output_type": "display_data"
    }
   ],
   "source": [
    "dataDay = dfs1.copy()\n",
    "dataDay['Fecha'] = pd.to_datetime(dataDay['Fecha'])\n",
    "dataDay['Dia'] =  dataDay[['Fecha']].apply(lambda x: dt.datetime.strftime(x['Fecha'], '%d'), axis=1)\n",
    "dataDayAverage = dataDay.groupby('Dia').agg({'Precio': np.mean}) \n",
    "plt.bar(range(31), dataDayAverage['Precio'])\n",
    "plt.xticks(range(31), (list(dataDayAverage.index)), rotation='vertical')\n",
    "plt.title('Maximum price per day')\n",
    "plt.xlabel('Day')"
   ]
  },
  {
   "cell_type": "markdown",
   "metadata": {},
   "source": [
    "**6.--** Compute y grafique el precio máximo por mes."
   ]
  },
  {
   "cell_type": "code",
   "execution_count": 36,
   "metadata": {},
   "outputs": [
    {
     "data": {
      "text/plain": [
       "Text(0.5, 0, 'Month')"
      ]
     },
     "execution_count": 36,
     "metadata": {},
     "output_type": "execute_result"
    },
    {
     "data": {
      "image/png": "[encoded data removed]",
      "text/plain": [
       "<Figure size 432x288 with 1 Axes>"
      ]
     },
     "metadata": {
      "needs_background": "light"
     },
     "output_type": "display_data"
    }
   ],
   "source": [
    "dataMonth = dfs1.copy()\n",
    "dataMonth['Fecha'] = pd.to_datetime(dataMonth['Fecha'])\n",
    "dataMonth['Mes'] =  dataMonth[['Fecha']].apply(lambda x: dt.datetime.strftime(x['Fecha'], '%m'), axis=1)\n",
    "dataMonthMax = dataMonth.groupby('Mes').agg({'Precio': np.max}) \n",
    "plt.bar(range(12), dataMonthMax['Precio'])\n",
    "plt.xticks(range(12), (list(dataMonthMax.index)), rotation='vertical')\n",
    "plt.title('Maximum price per month')\n",
    "plt.xlabel('Month')"
   ]
  },
  {
   "cell_type": "markdown",
   "metadata": {},
   "source": [
    "**7.--** Compute y grafique el precio mínimo mensual."
   ]
  },
  {
   "cell_type": "code",
   "execution_count": 37,
   "metadata": {},
   "outputs": [
    {
     "data": {
      "text/plain": [
       "Text(0.5, 0, 'Month')"
      ]
     },
     "execution_count": 37,
     "metadata": {},
     "output_type": "execute_result"
    },
    {
     "data": {
      "image/png": "[encoded data removed]",
      "text/plain": [
       "<Figure size 432x288 with 1 Axes>"
      ]
     },
     "metadata": {
      "needs_background": "light"
     },
     "output_type": "display_data"
    }
   ],
   "source": [
    "dataMonthMin = dataMonth.groupby('Mes').agg({'Precio': np.min}) \n",
    "plt.bar(range(12), dataMonthMin['Precio'])\n",
    "plt.xticks(range(12), (list(dataMonthMin.index)), rotation='vertical')\n",
    "plt.title('Minimum price per month')\n",
    "plt.xlabel('Month')"
   ]
  },
  {
   "cell_type": "markdown",
   "metadata": {},
   "source": [
    "**8.--** Haga un gráfico para comparar el precio máximo del mes (para cada mes) y el precio promedio mensual."
   ]
  },
  {
   "cell_type": "code",
   "execution_count": 38,
   "metadata": {},
   "outputs": [
    {
     "data": {
      "text/plain": [
       "Text(0.5, 0, 'Month')"
      ]
     },
     "execution_count": 38,
     "metadata": {},
     "output_type": "execute_result"
    },
    {
     "data": {
      "image/png": "[encoded data removed]",
      "text/plain": [
       "<Figure size 1152x432 with 2 Axes>"
      ]
     },
     "metadata": {
      "needs_background": "light"
     },
     "output_type": "display_data"
    }
   ],
   "source": [
    "dataMonthMean = dataMonth.groupby('Mes').agg({'Precio': np.mean})\n",
    "plt.figure(figsize=(16, 6))\n",
    "plt.subplot(1, 2 , 1)\n",
    "plt.bar(range(12), dataMonthMax['Precio'])\n",
    "plt.xticks(range(12), (list(dataMonthMax.index)), rotation='vertical')\n",
    "plt.title('Maximum price per month')\n",
    "plt.xlabel('Month')\n",
    "plt.subplot(1, 2 , 2)\n",
    "plt.bar(range(12), dataMonthMean['Precio'])\n",
    "plt.xticks(range(12), (list(dataMonthMean.index)), rotation='vertical')\n",
    "plt.title('Average price per month')\n",
    "plt.xlabel('Month')"
   ]
  },
  {
   "cell_type": "markdown",
   "metadata": {},
   "source": [
    "**9.--** Haga un histograma que muestre a que horas se produce el máximo precio diario para los días laborales."
   ]
  },
  {
   "cell_type": "code",
   "execution_count": 42,
   "metadata": {},
   "outputs": [],
   "source": [
    "dataDay['Dia'] =  dataDay[['Fecha']].apply(lambda x: dt.datetime.strftime(x['Fecha'], '%A'), axis=1)\n",
    "dataDayWorked = dataDay[(dataDay['Dia'] == 'Monday') | (dataDay['Dia'] == 'Tuesday')| (dataDay['Dia'] == 'Wednesday')| (dataDay['Dia'] == 'Thursday')| (dataDay['Dia'] == 'Friday')]\n",
    "dataDate = dataDayWorked.groupby('Fecha').agg({'Precio': np.max}) \n",
    "dataDate.reset_index(inplace=True)\n",
    "dataMerge = pd.merge(dataDayWorked, dataDate, on=['Fecha','Precio'], how='inner')"
   ]
  },
  {
   "cell_type": "code",
   "execution_count": 44,
   "metadata": {},
   "outputs": [
    {
     "data": {
      "text/plain": [
       "Text(0, 0.5, 'Occurrences')"
      ]
     },
     "execution_count": 44,
     "metadata": {},
     "output_type": "execute_result"
    },
    {
     "data": {
      "image/png": "[encoded data removed]",
      "text/plain": [
       "<Figure size 432x288 with 1 Axes>"
      ]
     },
     "metadata": {
      "needs_background": "light"
     },
     "output_type": "display_data"
    }
   ],
   "source": [
    "ListaDeHoras = list(map(int,dataMerge['Hora'].tolist()))\n",
    "plt.hist(ListaDeHoras, bins=24)\n",
    "plt.title('Histogram: Hours in which the maximum price was presented \"Monday-Friday\"')\n",
    "plt.xlabel('Hours')\n",
    "plt.ylabel('Occurrences')"
   ]
  },
  {
   "cell_type": "markdown",
   "metadata": {},
   "source": [
    "**10.--** Haga un histograma que muestre a que horas se produce el máximo precio diario para los días sabado."
   ]
  },
  {
   "cell_type": "code",
   "execution_count": 45,
   "metadata": {},
   "outputs": [],
   "source": [
    "dataSaturday = dataDay[(dataDay['Dia'] == 'Saturday') ]\n",
    "dataDate = dataSaturday.groupby('Fecha').agg({'Precio': np.max}) \n",
    "dataDate.reset_index(inplace=True)\n",
    "dataMerge = pd.merge(dataSaturday, dataDate, on=['Fecha','Precio'], how='inner')"
   ]
  },
  {
   "cell_type": "code",
   "execution_count": 47,
   "metadata": {},
   "outputs": [
    {
     "data": {
      "text/plain": [
       "Text(0, 0.5, 'Occurrences')"
      ]
     },
     "execution_count": 47,
     "metadata": {},
     "output_type": "execute_result"
    },
    {
     "data": {
      "image/png": "[encoded data removed]",
      "text/plain": [
       "<Figure size 432x288 with 1 Axes>"
      ]
     },
     "metadata": {
      "needs_background": "light"
     },
     "output_type": "display_data"
    }
   ],
   "source": [
    "ListaDeHoras = list(map(int,dataMerge['Hora'].tolist()))\n",
    "plt.hist(ListaDeHoras, bins=24)\n",
    "plt.title('Histogram: Hours in which the maximum price \"Saturday\" was presented')\n",
    "plt.xlabel('Hours')\n",
    "plt.ylabel('Occurrences')"
   ]
  },
  {
   "cell_type": "markdown",
   "metadata": {},
   "source": [
    "**11.--** Haga un histograma que muestre a que horas se produce el máximo precio diario para los días domingo."
   ]
  },
  {
   "cell_type": "code",
   "execution_count": 48,
   "metadata": {},
   "outputs": [],
   "source": [
    "dataSunday = dataDay[(dataDay['Dia'] == 'Sunday') ]\n",
    "dataDate = dataSunday.groupby('Fecha').agg({'Precio': np.max}) \n",
    "dataDate.reset_index(inplace=True)\n",
    "dataMerge = pd.merge(dataSunday, dataDate, on=['Fecha','Precio'], how='inner')"
   ]
  },
  {
   "cell_type": "code",
   "execution_count": 49,
   "metadata": {},
   "outputs": [
    {
     "data": {
      "text/plain": [
       "Text(0, 0.5, 'Occurrences')"
      ]
     },
     "execution_count": 49,
     "metadata": {},
     "output_type": "execute_result"
    },
    {
     "data": {
      "image/png": "[encoded data removed]",
      "text/plain": [
       "<Figure size 432x288 with 1 Axes>"
      ]
     },
     "metadata": {
      "needs_background": "light"
     },
     "output_type": "display_data"
    }
   ],
   "source": [
    "ListaDeHoras = list(map(int,dataMerge['Hora'].tolist()))\n",
    "plt.hist(ListaDeHoras, bins=24)\n",
    "plt.title('Histogram: Hours in which the maximum price \"Saturday\" was presented')\n",
    "plt.xlabel('Hours')\n",
    "plt.ylabel('Occurrences')"
   ]
  },
  {
   "cell_type": "markdown",
   "metadata": {},
   "source": [
    "**12.--** Imprima una tabla con la fecha y el valor más bajo por año del precio de bolsa."
   ]
  },
  {
   "cell_type": "code",
   "execution_count": 52,
   "metadata": {},
   "outputs": [
    {
     "name": "stdout",
     "output_type": "stream",
     "text": [
      "            Fecha  MinPrecio\n",
      "7      1995-07-28   0.000000\n",
      "10     1995-07-31   0.000000\n",
      "11     1995-08-01   0.000000\n",
      "84     1995-10-13   0.000000\n",
      "338    1995-07-29   0.000000\n",
      "339    1995-07-30   0.000000\n",
      "3800   1995-07-26   0.000000\n",
      "4140   1996-06-30   0.000000\n",
      "4149   1996-07-09   0.000000\n",
      "4152   1996-07-12   0.000000\n",
      "4162   1996-07-22   0.000000\n",
      "4163   1996-07-23   0.000000\n",
      "4164   1996-07-24   0.000000\n",
      "4876   1996-07-04   0.000000\n",
      "5981   1996-07-11   0.000000\n",
      "7749   1996-05-10   0.000000\n",
      "9651   1996-07-21   0.000000\n",
      "12566  1996-07-08   0.000000\n",
      "13668  1997-07-15  10.882310\n",
      "21695  1998-07-12  13.847330\n",
      "21696  1998-07-13  13.847330\n",
      "21697  1998-07-14  13.847330\n",
      "21698  1998-07-15  13.847330\n",
      "21699  1998-07-16  13.847330\n",
      "21701  1998-07-18  13.847330\n",
      "21702  1998-07-19  13.847330\n",
      "21703  1998-07-20  13.847330\n",
      "21704  1998-07-21  13.847330\n",
      "21705  1998-07-22  13.847330\n",
      "21706  1998-07-23  13.847330\n",
      "...           ...        ...\n",
      "32539  1999-03-28  18.359530\n",
      "37652  1999-03-31  18.359530\n",
      "41303  2000-03-25  21.531167\n",
      "41304  2000-03-26  21.531167\n",
      "41306  2000-03-28  21.531167\n",
      "44233  2000-03-27  21.531167\n",
      "45333  2000-03-29  21.531167\n",
      "45335  2000-03-31  21.531167\n",
      "49133  2001-08-20  24.822879\n",
      "56685  2002-04-29  26.777682\n",
      "57041  2002-04-20  26.777682\n",
      "57046  2002-04-25  26.777682\n",
      "57409  2002-04-23  26.777682\n",
      "65371  2003-02-14  37.013438\n",
      "74541  2004-03-29  32.252998\n",
      "83147  2005-10-04  27.581415\n",
      "92650  2006-10-17  26.714797\n",
      "100513 2007-05-03  30.173824\n",
      "109297 2008-05-26  29.199135\n",
      "118290 2009-12-22  32.892503\n",
      "118657 2009-12-24  32.892503\n",
      "126887 2010-07-12  32.024957\n",
      "135611 2011-06-06  33.291100\n",
      "146530 2012-04-29  34.988099\n",
      "153007 2013-01-09  40.415346\n",
      "162495 2014-01-11  38.941951\n",
      "171250 2015-01-06  46.791501\n",
      "179618 2016-12-09  61.100689\n",
      "188145 2017-03-28  60.312095\n",
      "197289 2018-04-06  61.457224\n",
      "\n",
      "[71 rows x 2 columns]\n"
     ]
    }
   ],
   "source": [
    "dataDay['Year'] =  dataDay[['Fecha']].apply(lambda x: dt.datetime.strftime(x['Fecha'], '%Y'), axis=1)\n",
    "dataDate = dataDay.groupby('Year').agg({'Precio': np.min}) \n",
    "dataDate.reset_index(inplace=True)\n",
    "dataDate.columns = [\"Year\",\"MinPrecio\"]\n",
    "dataMerge = pd.merge(dataDate, dataDay, on = ['Year'], how ='inner')\n",
    "dataMerge = dataMerge[(dataMerge['MinPrecio'] == dataMerge['Precio'])]\n",
    "print(dataMerge[['Fecha','MinPrecio']].drop_duplicates())"
   ]
  },
  {
   "cell_type": "markdown",
   "metadata": {},
   "source": [
    "**13.--** Haga una gráfica en que se muestre el precio promedio diario y el precio promedio mensual."
   ]
  },
  {
   "cell_type": "markdown",
   "metadata": {},
   "source": [
    "---"
   ]
  },
  {
   "cell_type": "code",
   "execution_count": 60,
   "metadata": {},
   "outputs": [],
   "source": [
    "dataMonthMean['Mes'] =  dataMonthMean[['Fecha']].apply(lambda x: dt.datetime.strftime(x['Fecha'], '%m'), axis=1)\n",
    "dataMonthMean['year'] =  dataMonthMean[['Fecha']].apply(lambda x: dt.datetime.strftime(x['Fecha'], '%Y'), axis=1)\n",
    "dataMonthYear = dataMonthMean.groupby(['Mes','year']).agg({'Precio': np.mean}) \n",
    "dataMonthYear.reset_index(inplace=True)\n",
    "dataMonthYear.columns = ['Mes','year','PromedioPorMes']\n",
    "\n",
    "dataMerge = pd.merge(dataMonthYear, dataMonthMean, on = ['Mes','year'], how ='inner')\n",
    "\n",
    "dataDay = dataDay.groupby('Fecha').agg({'Precio': np.mean}) \n",
    "dataDay.reset_index(inplace=True)\n",
    "dataDay.columns = ['Fecha','PrecioPorDia']\n",
    "\n",
    "dataMerge = pd.merge(dataMonthYear, dataMonthMean, on = ['Mes','year'], how ='inner')\n",
    "dataMerge = pd.merge(dataMerge, dataDay, on = ['Fecha'], how ='inner')\n",
    "dataPlot = dataMerge.groupby('Fecha').agg({'PrecioPorDia': np.mean,'PromedioPorMes': np.mean}) "
   ]
  },
  {
   "cell_type": "code",
   "execution_count": 63,
   "metadata": {},
   "outputs": [
    {
     "data": {
      "text/plain": [
       "<matplotlib.legend.Legend at 0x7f34bb10e908>"
      ]
     },
     "execution_count": 63,
     "metadata": {},
     "output_type": "execute_result"
    },
    {
     "data": {
      "text/plain": [
       "<Figure size 2160x2160 with 0 Axes>"
      ]
     },
     "metadata": {},
     "output_type": "display_data"
    },
    {
     "data": {
      "image/png": "[encoded data removed]",
      "text/plain": [
       "<Figure size 432x288 with 1 Axes>"
      ]
     },
     "metadata": {
      "needs_background": "light"
     },
     "output_type": "display_data"
    }
   ],
   "source": [
    "plt.figure(figsize=(30, 30))\n",
    "fig, ax = plt.subplots()\n",
    "ax.plot((dataPlot.index.tolist()), dataPlot['PrecioPorDia'], label=\"Average price per day\")\n",
    "ax.plot((dataPlot.index.tolist()), dataPlot['PromedioPorMes'], label=\"Average price per month\")\n",
    "plt.xlabel(\"Year\")\n",
    "plt.ylabel(\"Price\")\n",
    "\n",
    "ax.legend()"
   ]
  },
  {
   "cell_type": "code",
   "execution_count": null,
   "metadata": {},
   "outputs": [],
   "source": []
  }
 ],
 "metadata": {
  "anaconda-cloud": {},
  "kernel_info": {
   "name": "python3"
  },
  "kernelspec": {
   "display_name": "Python 3",
   "language": "python",
   "name": "python3"
  },
  "language_info": {
   "codemirror_mode": {
    "name": "ipython",
    "version": 3
   },
   "file_extension": ".py",
   "mimetype": "text/x-python",
   "name": "python",
   "nbconvert_exporter": "python",
   "pygments_lexer": "ipython3",
   "version": "3.6.7"
  },
  "nteract": {
   "version": "0.7.1"
  }
 },
 "nbformat": 4,
 "nbformat_minor": 2
}
